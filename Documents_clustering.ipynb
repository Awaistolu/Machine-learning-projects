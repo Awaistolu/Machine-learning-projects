{
  "nbformat": 4,
  "nbformat_minor": 0,
  "metadata": {
    "colab": {
      "name": "Documents-clustering.ipynb",
      "provenance": [],
      "authorship_tag": "ABX9TyMoF7J9URW5t6okEeNHAzzv",
      "include_colab_link": true
    },
    "kernelspec": {
      "name": "python3",
      "display_name": "Python 3"
    },
    "language_info": {
      "name": "python"
    }
  },
  "cells": [
    {
      "cell_type": "markdown",
      "metadata": {
        "id": "view-in-github",
        "colab_type": "text"
      },
      "source": [
        "<a href=\"https://colab.research.google.com/github/Awaistolu/Machine-learning-projects/blob/main/Documents_clustering.ipynb\" target=\"_parent\"><img src=\"https://colab.research.google.com/assets/colab-badge.svg\" alt=\"Open In Colab\"/></a>"
      ]
    },
    {
      "cell_type": "code",
      "execution_count": 1,
      "metadata": {
        "id": "2eA2hvJrmrUQ"
      },
      "outputs": [],
      "source": [
        "import numpy as np\n",
        "import pandas as pd\n",
        "import nltk\n",
        "import re\n",
        "from nltk.corpus import stopwords\n",
        "from nltk.tokenize import word_tokenize\n",
        "from nltk.stem.porter import PorterStemmer\n",
        "import string\n",
        "from sklearn.datasets import fetch_20newsgroups"
      ]
    },
    {
      "cell_type": "code",
      "source": [
        "categories = ['rec.sport.hockey',\n",
        "               'comp.graphics','soc.religion.christian','talk.politics.misc']"
      ],
      "metadata": {
        "id": "eyseBq1b9CdN"
      },
      "execution_count": 2,
      "outputs": []
    },
    {
      "cell_type": "code",
      "source": [
        "newsgroups_train = fetch_20newsgroups(subset='train',\n",
        "                                      categories=categories,shuffle=True,remove=('headers', 'footers', 'quotes'))"
      ],
      "metadata": {
        "id": "wXV7cJPKsL6Z"
      },
      "execution_count": 3,
      "outputs": []
    },
    {
      "cell_type": "code",
      "source": [
        "df = pd.DataFrame(newsgroups_train.data,columns=['corpus'])"
      ],
      "metadata": {
        "id": "FqvxNUx3v28q"
      },
      "execution_count": 4,
      "outputs": []
    },
    {
      "cell_type": "code",
      "source": [
        "df['corpus'][0]"
      ],
      "metadata": {
        "colab": {
          "base_uri": "https://localhost:8080/",
          "height": 126
        },
        "id": "JNwbaptO8cQd",
        "outputId": "7fa1a462-5121-4cdd-a296-57ad25b9b17a"
      },
      "execution_count": 5,
      "outputs": [
        {
          "output_type": "execute_result",
          "data": {
            "text/plain": [
              "\"\\n   Sean, the 68070 exists! :-)\\n\\n\\n\\n   Sean, I don't want to get into a 'mini-war' by what I am going to say,\\nbut I have to be a little bit skeptic about the performance you are\\nclaiming on the Centris, you'll see why (please, no-flames, I reserve\\nthose for c.s.m.a :-) )\\n\\n   I was in Chicago in the last consumer electronics show, and Apple had a\\nbooth there.  I walked by, and they were showing real-time video capture\\nusing a (Radious or SuperMac?) card to digitize and make right on the spot\\nquicktime movies.  I think the quicktime they were using was the old one\\n(1.5).\\n\\n   They digitized a guy talking there in 160x2xx something.  It played back quite\\nnicely and in real time.  The guy then expanded the window (resized) to 25x by\\n3xx (320 in y I think) and the frame rate decreased enough to notice that it\\nwasn't 30fps (or about 30fps) anymore.  It dropped to like 15 fps.  Then he\\nincreased it just a bit more, and it dropped to 10<->12 fps. \\n\\n   Then I asked him what Mac he was using... He was using a Quadra (don't know\\nwhat model, 900?) to do it, and he was telling the guys there that the Quicktime\\ncould play back at the same speed even on an LCII.\\n\\n   Well, I spoiled his claim so to say, since a 68040 Quadra Mac was having\\na little bit of trouble.  And this wasn't even from the hardisk!  This was\\nfrom memory!\\n\\n   Could it be that you saw either a newer version of quicktime, or some\\nhardware assisted Centris, or another software product running the \\nanimation (like supposedly MacroMind's Accelerator?)?\\n\\n   Don't misunderstand me, I just want to clarify this.\\n\\n   But for the sake of the posting about a computer doing it or not, I can\\nclaim 320x200 (a tad more with overscan) being done in 256,000+ colors in \\nmy computer (not from the hardisk) at 30fps with Scala MM210.\\n\\n   But I agree, if we consider MPEG stuff, I think a multimedia consumer\\nlow-priced box has a lot of market... I just think 3DO would make it, \\nno longer CD-I.\\n\""
            ],
            "application/vnd.google.colaboratory.intrinsic+json": {
              "type": "string"
            }
          },
          "metadata": {},
          "execution_count": 5
        }
      ]
    },
    {
      "cell_type": "code",
      "source": [
        "nltk.download('stopwords')\n",
        "nltk.download('punkt')\n",
        "ps = PorterStemmer()"
      ],
      "metadata": {
        "colab": {
          "base_uri": "https://localhost:8080/"
        },
        "id": "B79fn9Ft78_2",
        "outputId": "f989a2ee-b27a-43e7-9772-8e0407c42b21"
      },
      "execution_count": 6,
      "outputs": [
        {
          "output_type": "stream",
          "name": "stdout",
          "text": [
            "[nltk_data] Downloading package stopwords to /root/nltk_data...\n",
            "[nltk_data]   Unzipping corpora/stopwords.zip.\n",
            "[nltk_data] Downloading package punkt to /root/nltk_data...\n",
            "[nltk_data]   Unzipping tokenizers/punkt.zip.\n"
          ]
        }
      ]
    },
    {
      "cell_type": "code",
      "source": [
        "def stemming(text):\n",
        "  text = re.sub('[^a-zA-Z]',' ',text)\n",
        "  text = text.lower()\n",
        "  text = nltk.word_tokenize(text)\n",
        "  stem_text = [ps.stem(word) for word in text if word not in set(stopwords.words('english')) and word not in set(string.punctuation)]\n",
        "  stem_text = ' '.join(stem_text)\n",
        "  return stem_text"
      ],
      "metadata": {
        "id": "lPwHl7wjw5Us"
      },
      "execution_count": 7,
      "outputs": []
    },
    {
      "cell_type": "code",
      "source": [
        "df['clean_text'] = df['corpus'].apply(stemming)"
      ],
      "metadata": {
        "id": "zCsHRm5q2RFJ"
      },
      "execution_count": 8,
      "outputs": []
    },
    {
      "cell_type": "code",
      "source": [
        "df.head()"
      ],
      "metadata": {
        "colab": {
          "base_uri": "https://localhost:8080/",
          "height": 206
        },
        "id": "tGhDkBJN5D19",
        "outputId": "1ab97c47-19dc-479a-e7df-12d3a81f2217"
      },
      "execution_count": 9,
      "outputs": [
        {
          "output_type": "execute_result",
          "data": {
            "text/plain": [
              "                                              corpus  \\\n",
              "0  \\n   Sean, the 68070 exists! :-)\\n\\n\\n\\n   Sea...   \n",
              "1  \\nNever was?  Probably.  Is not now?  Debatabl...   \n",
              "2  Could someone please post the rosters for the ...   \n",
              "3  \\n\\tIt depends on what kind of the polygons. \\...   \n",
              "4  Yesterday I wrote a program to do bilinear int...   \n",
              "\n",
              "                                          clean_text  \n",
              "0  sean exist sean want get mini war go say littl...  \n",
              "1  never probabl debat valid test think besid fin...  \n",
              "2  could someon pleas post roster colleg hockey s...  \n",
              "3  depend kind polygon convex simpl concav troubl...  \n",
              "4  yesterday wrote program bilinear interpol ala ...  "
            ],
            "text/html": [
              "\n",
              "  <div id=\"df-73eb868e-b76c-4a46-9530-b0907bb10d4b\">\n",
              "    <div class=\"colab-df-container\">\n",
              "      <div>\n",
              "<style scoped>\n",
              "    .dataframe tbody tr th:only-of-type {\n",
              "        vertical-align: middle;\n",
              "    }\n",
              "\n",
              "    .dataframe tbody tr th {\n",
              "        vertical-align: top;\n",
              "    }\n",
              "\n",
              "    .dataframe thead th {\n",
              "        text-align: right;\n",
              "    }\n",
              "</style>\n",
              "<table border=\"1\" class=\"dataframe\">\n",
              "  <thead>\n",
              "    <tr style=\"text-align: right;\">\n",
              "      <th></th>\n",
              "      <th>corpus</th>\n",
              "      <th>clean_text</th>\n",
              "    </tr>\n",
              "  </thead>\n",
              "  <tbody>\n",
              "    <tr>\n",
              "      <th>0</th>\n",
              "      <td>\\n   Sean, the 68070 exists! :-)\\n\\n\\n\\n   Sea...</td>\n",
              "      <td>sean exist sean want get mini war go say littl...</td>\n",
              "    </tr>\n",
              "    <tr>\n",
              "      <th>1</th>\n",
              "      <td>\\nNever was?  Probably.  Is not now?  Debatabl...</td>\n",
              "      <td>never probabl debat valid test think besid fin...</td>\n",
              "    </tr>\n",
              "    <tr>\n",
              "      <th>2</th>\n",
              "      <td>Could someone please post the rosters for the ...</td>\n",
              "      <td>could someon pleas post roster colleg hockey s...</td>\n",
              "    </tr>\n",
              "    <tr>\n",
              "      <th>3</th>\n",
              "      <td>\\n\\tIt depends on what kind of the polygons. \\...</td>\n",
              "      <td>depend kind polygon convex simpl concav troubl...</td>\n",
              "    </tr>\n",
              "    <tr>\n",
              "      <th>4</th>\n",
              "      <td>Yesterday I wrote a program to do bilinear int...</td>\n",
              "      <td>yesterday wrote program bilinear interpol ala ...</td>\n",
              "    </tr>\n",
              "  </tbody>\n",
              "</table>\n",
              "</div>\n",
              "      <button class=\"colab-df-convert\" onclick=\"convertToInteractive('df-73eb868e-b76c-4a46-9530-b0907bb10d4b')\"\n",
              "              title=\"Convert this dataframe to an interactive table.\"\n",
              "              style=\"display:none;\">\n",
              "        \n",
              "  <svg xmlns=\"http://www.w3.org/2000/svg\" height=\"24px\"viewBox=\"0 0 24 24\"\n",
              "       width=\"24px\">\n",
              "    <path d=\"M0 0h24v24H0V0z\" fill=\"none\"/>\n",
              "    <path d=\"M18.56 5.44l.94 2.06.94-2.06 2.06-.94-2.06-.94-.94-2.06-.94 2.06-2.06.94zm-11 1L8.5 8.5l.94-2.06 2.06-.94-2.06-.94L8.5 2.5l-.94 2.06-2.06.94zm10 10l.94 2.06.94-2.06 2.06-.94-2.06-.94-.94-2.06-.94 2.06-2.06.94z\"/><path d=\"M17.41 7.96l-1.37-1.37c-.4-.4-.92-.59-1.43-.59-.52 0-1.04.2-1.43.59L10.3 9.45l-7.72 7.72c-.78.78-.78 2.05 0 2.83L4 21.41c.39.39.9.59 1.41.59.51 0 1.02-.2 1.41-.59l7.78-7.78 2.81-2.81c.8-.78.8-2.07 0-2.86zM5.41 20L4 18.59l7.72-7.72 1.47 1.35L5.41 20z\"/>\n",
              "  </svg>\n",
              "      </button>\n",
              "      \n",
              "  <style>\n",
              "    .colab-df-container {\n",
              "      display:flex;\n",
              "      flex-wrap:wrap;\n",
              "      gap: 12px;\n",
              "    }\n",
              "\n",
              "    .colab-df-convert {\n",
              "      background-color: #E8F0FE;\n",
              "      border: none;\n",
              "      border-radius: 50%;\n",
              "      cursor: pointer;\n",
              "      display: none;\n",
              "      fill: #1967D2;\n",
              "      height: 32px;\n",
              "      padding: 0 0 0 0;\n",
              "      width: 32px;\n",
              "    }\n",
              "\n",
              "    .colab-df-convert:hover {\n",
              "      background-color: #E2EBFA;\n",
              "      box-shadow: 0px 1px 2px rgba(60, 64, 67, 0.3), 0px 1px 3px 1px rgba(60, 64, 67, 0.15);\n",
              "      fill: #174EA6;\n",
              "    }\n",
              "\n",
              "    [theme=dark] .colab-df-convert {\n",
              "      background-color: #3B4455;\n",
              "      fill: #D2E3FC;\n",
              "    }\n",
              "\n",
              "    [theme=dark] .colab-df-convert:hover {\n",
              "      background-color: #434B5C;\n",
              "      box-shadow: 0px 1px 3px 1px rgba(0, 0, 0, 0.15);\n",
              "      filter: drop-shadow(0px 1px 2px rgba(0, 0, 0, 0.3));\n",
              "      fill: #FFFFFF;\n",
              "    }\n",
              "  </style>\n",
              "\n",
              "      <script>\n",
              "        const buttonEl =\n",
              "          document.querySelector('#df-73eb868e-b76c-4a46-9530-b0907bb10d4b button.colab-df-convert');\n",
              "        buttonEl.style.display =\n",
              "          google.colab.kernel.accessAllowed ? 'block' : 'none';\n",
              "\n",
              "        async function convertToInteractive(key) {\n",
              "          const element = document.querySelector('#df-73eb868e-b76c-4a46-9530-b0907bb10d4b');\n",
              "          const dataTable =\n",
              "            await google.colab.kernel.invokeFunction('convertToInteractive',\n",
              "                                                     [key], {});\n",
              "          if (!dataTable) return;\n",
              "\n",
              "          const docLinkHtml = 'Like what you see? Visit the ' +\n",
              "            '<a target=\"_blank\" href=https://colab.research.google.com/notebooks/data_table.ipynb>data table notebook</a>'\n",
              "            + ' to learn more about interactive tables.';\n",
              "          element.innerHTML = '';\n",
              "          dataTable['output_type'] = 'display_data';\n",
              "          await google.colab.output.renderOutput(dataTable, element);\n",
              "          const docLink = document.createElement('div');\n",
              "          docLink.innerHTML = docLinkHtml;\n",
              "          element.appendChild(docLink);\n",
              "        }\n",
              "      </script>\n",
              "    </div>\n",
              "  </div>\n",
              "  "
            ]
          },
          "metadata": {},
          "execution_count": 9
        }
      ]
    },
    {
      "cell_type": "code",
      "source": [
        "from sklearn.feature_extraction.text import TfidfVectorizer\n",
        "from sklearn.cluster import KMeans"
      ],
      "metadata": {
        "id": "pHQYAbjq9Rit"
      },
      "execution_count": 10,
      "outputs": []
    },
    {
      "cell_type": "code",
      "source": [
        "tfidf = TfidfVectorizer(max_df=0.95,min_df=5)\n",
        "x = tfidf.fit_transform(df['clean_text'])"
      ],
      "metadata": {
        "id": "-MDen9iR9l-9"
      },
      "execution_count": 11,
      "outputs": []
    },
    {
      "cell_type": "code",
      "source": [
        "x.shape"
      ],
      "metadata": {
        "colab": {
          "base_uri": "https://localhost:8080/"
        },
        "id": "mFPE3wll-iUP",
        "outputId": "e774fd02-ceef-44dc-dbf0-227fe5830802"
      },
      "execution_count": 12,
      "outputs": [
        {
          "output_type": "execute_result",
          "data": {
            "text/plain": [
              "(2248, 4550)"
            ]
          },
          "metadata": {},
          "execution_count": 12
        }
      ]
    },
    {
      "cell_type": "code",
      "source": [
        "kmean = KMeans(n_clusters=4)\n",
        "kmean.fit(x)"
      ],
      "metadata": {
        "colab": {
          "base_uri": "https://localhost:8080/"
        },
        "id": "ziFFLa6m-ldN",
        "outputId": "663155ea-3895-4cc0-e43c-78f0f54140b7"
      },
      "execution_count": 13,
      "outputs": [
        {
          "output_type": "execute_result",
          "data": {
            "text/plain": [
              "KMeans(n_clusters=4)"
            ]
          },
          "metadata": {},
          "execution_count": 13
        }
      ]
    },
    {
      "cell_type": "code",
      "source": [
        "single_topic = kmean.labels_[0]"
      ],
      "metadata": {
        "id": "5culwFYF--3t"
      },
      "execution_count": 14,
      "outputs": []
    },
    {
      "cell_type": "code",
      "source": [
        "single_topic.argsort()[-10:]"
      ],
      "metadata": {
        "colab": {
          "base_uri": "https://localhost:8080/"
        },
        "id": "Rc-b67Vx_It9",
        "outputId": "d322d0df-e567-4f82-f784-4b442ffda1cc"
      },
      "execution_count": 15,
      "outputs": [
        {
          "output_type": "execute_result",
          "data": {
            "text/plain": [
              "array([0])"
            ]
          },
          "metadata": {},
          "execution_count": 15
        }
      ]
    },
    {
      "cell_type": "code",
      "source": [
        "from sklearn import cluster\n",
        "cluster = kmean.labels_"
      ],
      "metadata": {
        "id": "DYgqOf49_Vjd"
      },
      "execution_count": 16,
      "outputs": []
    },
    {
      "cell_type": "code",
      "source": [
        "df1 = pd.DataFrame(x.todense()).groupby(cluster).mean()"
      ],
      "metadata": {
        "id": "5wBFului_xfN"
      },
      "execution_count": 17,
      "outputs": []
    },
    {
      "cell_type": "code",
      "source": [
        "terms = tfidf.get_feature_names_out()"
      ],
      "metadata": {
        "id": "b4-z6zHoBvju"
      },
      "execution_count": 18,
      "outputs": []
    },
    {
      "cell_type": "code",
      "source": [
        "for index,topic in df1.iterrows():\n",
        "  print(f'topic {index}')\n",
        "  print([terms[t] for t in np.argsort(topic)[-15:]])"
      ],
      "metadata": {
        "colab": {
          "base_uri": "https://localhost:8080/"
        },
        "id": "D2uQRYa8DLZb",
        "outputId": "aa4723b0-0644-4f3a-b52d-dd5ff702646c"
      },
      "execution_count": 19,
      "outputs": [
        {
          "output_type": "stream",
          "name": "stdout",
          "text": [
            "topic 0\n",
            "['think', 'truth', 'bibl', 'sin', 'christ', 'faith', 'say', 'peopl', 'church', 'one', 'would', 'believ', 'jesu', 'christian', 'god']\n",
            "topic 1\n",
            "['go', 'post', 'say', 'make', 'time', 'state', 'use', 'govern', 'get', 'know', 'like', 'think', 'one', 'would', 'peopl']\n",
            "topic 2\n",
            "['color', 'mail', 'window', 'know', 'pleas', 'look', 'help', 'format', 'anyon', 'use', 'program', 'imag', 'graphic', 'thank', 'file']\n",
            "topic 3\n",
            "['get', 'leagu', 'score', 'goal', 'playoff', 'go', 'nhl', 'win', 'year', 'season', 'hockey', 'player', 'play', 'team', 'game']\n"
          ]
        }
      ]
    },
    {
      "cell_type": "code",
      "source": [
        "cluster_d = {0:'religion',1:'country',2:'technologies',3:'sports'}\n",
        "cluster_d"
      ],
      "metadata": {
        "colab": {
          "base_uri": "https://localhost:8080/"
        },
        "id": "wma8iAYOEI6P",
        "outputId": "741658f9-1201-4cfb-c8ae-525131e0e3bf"
      },
      "execution_count": 29,
      "outputs": [
        {
          "output_type": "execute_result",
          "data": {
            "text/plain": [
              "{0: 'religion', 1: 'country', 2: 'technologies', 3: 'sports'}"
            ]
          },
          "metadata": {},
          "execution_count": 29
        }
      ]
    },
    {
      "cell_type": "code",
      "source": [
        "df['cluster'] = cluster"
      ],
      "metadata": {
        "id": "yV939qveK3d8"
      },
      "execution_count": 30,
      "outputs": []
    },
    {
      "cell_type": "code",
      "source": [
        "df.head()"
      ],
      "metadata": {
        "colab": {
          "base_uri": "https://localhost:8080/",
          "height": 206
        },
        "id": "Bk7WxCX4LBQf",
        "outputId": "e782493f-49c1-4f5e-bfda-06891fd88046"
      },
      "execution_count": 31,
      "outputs": [
        {
          "output_type": "execute_result",
          "data": {
            "text/plain": [
              "                                              corpus  \\\n",
              "0  \\n   Sean, the 68070 exists! :-)\\n\\n\\n\\n   Sea...   \n",
              "1  \\nNever was?  Probably.  Is not now?  Debatabl...   \n",
              "2  Could someone please post the rosters for the ...   \n",
              "3  \\n\\tIt depends on what kind of the polygons. \\...   \n",
              "4  Yesterday I wrote a program to do bilinear int...   \n",
              "\n",
              "                                          clean_text  cluster  \n",
              "0  sean exist sean want get mini war go say littl...        1  \n",
              "1  never probabl debat valid test think besid fin...        3  \n",
              "2  could someon pleas post roster colleg hockey s...        3  \n",
              "3  depend kind polygon convex simpl concav troubl...        1  \n",
              "4  yesterday wrote program bilinear interpol ala ...        1  "
            ],
            "text/html": [
              "\n",
              "  <div id=\"df-54627aa5-4aa7-44c4-8d51-c83c9fad6790\">\n",
              "    <div class=\"colab-df-container\">\n",
              "      <div>\n",
              "<style scoped>\n",
              "    .dataframe tbody tr th:only-of-type {\n",
              "        vertical-align: middle;\n",
              "    }\n",
              "\n",
              "    .dataframe tbody tr th {\n",
              "        vertical-align: top;\n",
              "    }\n",
              "\n",
              "    .dataframe thead th {\n",
              "        text-align: right;\n",
              "    }\n",
              "</style>\n",
              "<table border=\"1\" class=\"dataframe\">\n",
              "  <thead>\n",
              "    <tr style=\"text-align: right;\">\n",
              "      <th></th>\n",
              "      <th>corpus</th>\n",
              "      <th>clean_text</th>\n",
              "      <th>cluster</th>\n",
              "    </tr>\n",
              "  </thead>\n",
              "  <tbody>\n",
              "    <tr>\n",
              "      <th>0</th>\n",
              "      <td>\\n   Sean, the 68070 exists! :-)\\n\\n\\n\\n   Sea...</td>\n",
              "      <td>sean exist sean want get mini war go say littl...</td>\n",
              "      <td>1</td>\n",
              "    </tr>\n",
              "    <tr>\n",
              "      <th>1</th>\n",
              "      <td>\\nNever was?  Probably.  Is not now?  Debatabl...</td>\n",
              "      <td>never probabl debat valid test think besid fin...</td>\n",
              "      <td>3</td>\n",
              "    </tr>\n",
              "    <tr>\n",
              "      <th>2</th>\n",
              "      <td>Could someone please post the rosters for the ...</td>\n",
              "      <td>could someon pleas post roster colleg hockey s...</td>\n",
              "      <td>3</td>\n",
              "    </tr>\n",
              "    <tr>\n",
              "      <th>3</th>\n",
              "      <td>\\n\\tIt depends on what kind of the polygons. \\...</td>\n",
              "      <td>depend kind polygon convex simpl concav troubl...</td>\n",
              "      <td>1</td>\n",
              "    </tr>\n",
              "    <tr>\n",
              "      <th>4</th>\n",
              "      <td>Yesterday I wrote a program to do bilinear int...</td>\n",
              "      <td>yesterday wrote program bilinear interpol ala ...</td>\n",
              "      <td>1</td>\n",
              "    </tr>\n",
              "  </tbody>\n",
              "</table>\n",
              "</div>\n",
              "      <button class=\"colab-df-convert\" onclick=\"convertToInteractive('df-54627aa5-4aa7-44c4-8d51-c83c9fad6790')\"\n",
              "              title=\"Convert this dataframe to an interactive table.\"\n",
              "              style=\"display:none;\">\n",
              "        \n",
              "  <svg xmlns=\"http://www.w3.org/2000/svg\" height=\"24px\"viewBox=\"0 0 24 24\"\n",
              "       width=\"24px\">\n",
              "    <path d=\"M0 0h24v24H0V0z\" fill=\"none\"/>\n",
              "    <path d=\"M18.56 5.44l.94 2.06.94-2.06 2.06-.94-2.06-.94-.94-2.06-.94 2.06-2.06.94zm-11 1L8.5 8.5l.94-2.06 2.06-.94-2.06-.94L8.5 2.5l-.94 2.06-2.06.94zm10 10l.94 2.06.94-2.06 2.06-.94-2.06-.94-.94-2.06-.94 2.06-2.06.94z\"/><path d=\"M17.41 7.96l-1.37-1.37c-.4-.4-.92-.59-1.43-.59-.52 0-1.04.2-1.43.59L10.3 9.45l-7.72 7.72c-.78.78-.78 2.05 0 2.83L4 21.41c.39.39.9.59 1.41.59.51 0 1.02-.2 1.41-.59l7.78-7.78 2.81-2.81c.8-.78.8-2.07 0-2.86zM5.41 20L4 18.59l7.72-7.72 1.47 1.35L5.41 20z\"/>\n",
              "  </svg>\n",
              "      </button>\n",
              "      \n",
              "  <style>\n",
              "    .colab-df-container {\n",
              "      display:flex;\n",
              "      flex-wrap:wrap;\n",
              "      gap: 12px;\n",
              "    }\n",
              "\n",
              "    .colab-df-convert {\n",
              "      background-color: #E8F0FE;\n",
              "      border: none;\n",
              "      border-radius: 50%;\n",
              "      cursor: pointer;\n",
              "      display: none;\n",
              "      fill: #1967D2;\n",
              "      height: 32px;\n",
              "      padding: 0 0 0 0;\n",
              "      width: 32px;\n",
              "    }\n",
              "\n",
              "    .colab-df-convert:hover {\n",
              "      background-color: #E2EBFA;\n",
              "      box-shadow: 0px 1px 2px rgba(60, 64, 67, 0.3), 0px 1px 3px 1px rgba(60, 64, 67, 0.15);\n",
              "      fill: #174EA6;\n",
              "    }\n",
              "\n",
              "    [theme=dark] .colab-df-convert {\n",
              "      background-color: #3B4455;\n",
              "      fill: #D2E3FC;\n",
              "    }\n",
              "\n",
              "    [theme=dark] .colab-df-convert:hover {\n",
              "      background-color: #434B5C;\n",
              "      box-shadow: 0px 1px 3px 1px rgba(0, 0, 0, 0.15);\n",
              "      filter: drop-shadow(0px 1px 2px rgba(0, 0, 0, 0.3));\n",
              "      fill: #FFFFFF;\n",
              "    }\n",
              "  </style>\n",
              "\n",
              "      <script>\n",
              "        const buttonEl =\n",
              "          document.querySelector('#df-54627aa5-4aa7-44c4-8d51-c83c9fad6790 button.colab-df-convert');\n",
              "        buttonEl.style.display =\n",
              "          google.colab.kernel.accessAllowed ? 'block' : 'none';\n",
              "\n",
              "        async function convertToInteractive(key) {\n",
              "          const element = document.querySelector('#df-54627aa5-4aa7-44c4-8d51-c83c9fad6790');\n",
              "          const dataTable =\n",
              "            await google.colab.kernel.invokeFunction('convertToInteractive',\n",
              "                                                     [key], {});\n",
              "          if (!dataTable) return;\n",
              "\n",
              "          const docLinkHtml = 'Like what you see? Visit the ' +\n",
              "            '<a target=\"_blank\" href=https://colab.research.google.com/notebooks/data_table.ipynb>data table notebook</a>'\n",
              "            + ' to learn more about interactive tables.';\n",
              "          element.innerHTML = '';\n",
              "          dataTable['output_type'] = 'display_data';\n",
              "          await google.colab.output.renderOutput(dataTable, element);\n",
              "          const docLink = document.createElement('div');\n",
              "          docLink.innerHTML = docLinkHtml;\n",
              "          element.appendChild(docLink);\n",
              "        }\n",
              "      </script>\n",
              "    </div>\n",
              "  </div>\n",
              "  "
            ]
          },
          "metadata": {},
          "execution_count": 31
        }
      ]
    },
    {
      "cell_type": "code",
      "source": [
        "df['cluster'] = df['cluster'].map(cluster_d)"
      ],
      "metadata": {
        "id": "lil3pb-9LDNO"
      },
      "execution_count": 32,
      "outputs": []
    },
    {
      "cell_type": "code",
      "source": [
        "df.head()"
      ],
      "metadata": {
        "colab": {
          "base_uri": "https://localhost:8080/",
          "height": 206
        },
        "id": "ACq0K6ebLMBu",
        "outputId": "4000f3ba-d6cc-4766-9eb3-e0f8555edfe0"
      },
      "execution_count": 33,
      "outputs": [
        {
          "output_type": "execute_result",
          "data": {
            "text/plain": [
              "                                              corpus  \\\n",
              "0  \\n   Sean, the 68070 exists! :-)\\n\\n\\n\\n   Sea...   \n",
              "1  \\nNever was?  Probably.  Is not now?  Debatabl...   \n",
              "2  Could someone please post the rosters for the ...   \n",
              "3  \\n\\tIt depends on what kind of the polygons. \\...   \n",
              "4  Yesterday I wrote a program to do bilinear int...   \n",
              "\n",
              "                                          clean_text  cluster  \n",
              "0  sean exist sean want get mini war go say littl...  country  \n",
              "1  never probabl debat valid test think besid fin...   sports  \n",
              "2  could someon pleas post roster colleg hockey s...   sports  \n",
              "3  depend kind polygon convex simpl concav troubl...  country  \n",
              "4  yesterday wrote program bilinear interpol ala ...  country  "
            ],
            "text/html": [
              "\n",
              "  <div id=\"df-25b8aaba-91ef-4a23-ac58-def7896af87f\">\n",
              "    <div class=\"colab-df-container\">\n",
              "      <div>\n",
              "<style scoped>\n",
              "    .dataframe tbody tr th:only-of-type {\n",
              "        vertical-align: middle;\n",
              "    }\n",
              "\n",
              "    .dataframe tbody tr th {\n",
              "        vertical-align: top;\n",
              "    }\n",
              "\n",
              "    .dataframe thead th {\n",
              "        text-align: right;\n",
              "    }\n",
              "</style>\n",
              "<table border=\"1\" class=\"dataframe\">\n",
              "  <thead>\n",
              "    <tr style=\"text-align: right;\">\n",
              "      <th></th>\n",
              "      <th>corpus</th>\n",
              "      <th>clean_text</th>\n",
              "      <th>cluster</th>\n",
              "    </tr>\n",
              "  </thead>\n",
              "  <tbody>\n",
              "    <tr>\n",
              "      <th>0</th>\n",
              "      <td>\\n   Sean, the 68070 exists! :-)\\n\\n\\n\\n   Sea...</td>\n",
              "      <td>sean exist sean want get mini war go say littl...</td>\n",
              "      <td>country</td>\n",
              "    </tr>\n",
              "    <tr>\n",
              "      <th>1</th>\n",
              "      <td>\\nNever was?  Probably.  Is not now?  Debatabl...</td>\n",
              "      <td>never probabl debat valid test think besid fin...</td>\n",
              "      <td>sports</td>\n",
              "    </tr>\n",
              "    <tr>\n",
              "      <th>2</th>\n",
              "      <td>Could someone please post the rosters for the ...</td>\n",
              "      <td>could someon pleas post roster colleg hockey s...</td>\n",
              "      <td>sports</td>\n",
              "    </tr>\n",
              "    <tr>\n",
              "      <th>3</th>\n",
              "      <td>\\n\\tIt depends on what kind of the polygons. \\...</td>\n",
              "      <td>depend kind polygon convex simpl concav troubl...</td>\n",
              "      <td>country</td>\n",
              "    </tr>\n",
              "    <tr>\n",
              "      <th>4</th>\n",
              "      <td>Yesterday I wrote a program to do bilinear int...</td>\n",
              "      <td>yesterday wrote program bilinear interpol ala ...</td>\n",
              "      <td>country</td>\n",
              "    </tr>\n",
              "  </tbody>\n",
              "</table>\n",
              "</div>\n",
              "      <button class=\"colab-df-convert\" onclick=\"convertToInteractive('df-25b8aaba-91ef-4a23-ac58-def7896af87f')\"\n",
              "              title=\"Convert this dataframe to an interactive table.\"\n",
              "              style=\"display:none;\">\n",
              "        \n",
              "  <svg xmlns=\"http://www.w3.org/2000/svg\" height=\"24px\"viewBox=\"0 0 24 24\"\n",
              "       width=\"24px\">\n",
              "    <path d=\"M0 0h24v24H0V0z\" fill=\"none\"/>\n",
              "    <path d=\"M18.56 5.44l.94 2.06.94-2.06 2.06-.94-2.06-.94-.94-2.06-.94 2.06-2.06.94zm-11 1L8.5 8.5l.94-2.06 2.06-.94-2.06-.94L8.5 2.5l-.94 2.06-2.06.94zm10 10l.94 2.06.94-2.06 2.06-.94-2.06-.94-.94-2.06-.94 2.06-2.06.94z\"/><path d=\"M17.41 7.96l-1.37-1.37c-.4-.4-.92-.59-1.43-.59-.52 0-1.04.2-1.43.59L10.3 9.45l-7.72 7.72c-.78.78-.78 2.05 0 2.83L4 21.41c.39.39.9.59 1.41.59.51 0 1.02-.2 1.41-.59l7.78-7.78 2.81-2.81c.8-.78.8-2.07 0-2.86zM5.41 20L4 18.59l7.72-7.72 1.47 1.35L5.41 20z\"/>\n",
              "  </svg>\n",
              "      </button>\n",
              "      \n",
              "  <style>\n",
              "    .colab-df-container {\n",
              "      display:flex;\n",
              "      flex-wrap:wrap;\n",
              "      gap: 12px;\n",
              "    }\n",
              "\n",
              "    .colab-df-convert {\n",
              "      background-color: #E8F0FE;\n",
              "      border: none;\n",
              "      border-radius: 50%;\n",
              "      cursor: pointer;\n",
              "      display: none;\n",
              "      fill: #1967D2;\n",
              "      height: 32px;\n",
              "      padding: 0 0 0 0;\n",
              "      width: 32px;\n",
              "    }\n",
              "\n",
              "    .colab-df-convert:hover {\n",
              "      background-color: #E2EBFA;\n",
              "      box-shadow: 0px 1px 2px rgba(60, 64, 67, 0.3), 0px 1px 3px 1px rgba(60, 64, 67, 0.15);\n",
              "      fill: #174EA6;\n",
              "    }\n",
              "\n",
              "    [theme=dark] .colab-df-convert {\n",
              "      background-color: #3B4455;\n",
              "      fill: #D2E3FC;\n",
              "    }\n",
              "\n",
              "    [theme=dark] .colab-df-convert:hover {\n",
              "      background-color: #434B5C;\n",
              "      box-shadow: 0px 1px 3px 1px rgba(0, 0, 0, 0.15);\n",
              "      filter: drop-shadow(0px 1px 2px rgba(0, 0, 0, 0.3));\n",
              "      fill: #FFFFFF;\n",
              "    }\n",
              "  </style>\n",
              "\n",
              "      <script>\n",
              "        const buttonEl =\n",
              "          document.querySelector('#df-25b8aaba-91ef-4a23-ac58-def7896af87f button.colab-df-convert');\n",
              "        buttonEl.style.display =\n",
              "          google.colab.kernel.accessAllowed ? 'block' : 'none';\n",
              "\n",
              "        async function convertToInteractive(key) {\n",
              "          const element = document.querySelector('#df-25b8aaba-91ef-4a23-ac58-def7896af87f');\n",
              "          const dataTable =\n",
              "            await google.colab.kernel.invokeFunction('convertToInteractive',\n",
              "                                                     [key], {});\n",
              "          if (!dataTable) return;\n",
              "\n",
              "          const docLinkHtml = 'Like what you see? Visit the ' +\n",
              "            '<a target=\"_blank\" href=https://colab.research.google.com/notebooks/data_table.ipynb>data table notebook</a>'\n",
              "            + ' to learn more about interactive tables.';\n",
              "          element.innerHTML = '';\n",
              "          dataTable['output_type'] = 'display_data';\n",
              "          await google.colab.output.renderOutput(dataTable, element);\n",
              "          const docLink = document.createElement('div');\n",
              "          docLink.innerHTML = docLinkHtml;\n",
              "          element.appendChild(docLink);\n",
              "        }\n",
              "      </script>\n",
              "    </div>\n",
              "  </div>\n",
              "  "
            ]
          },
          "metadata": {},
          "execution_count": 33
        }
      ]
    },
    {
      "cell_type": "code",
      "source": [
        "df['clean_text'][0]"
      ],
      "metadata": {
        "colab": {
          "base_uri": "https://localhost:8080/",
          "height": 126
        },
        "id": "9l9h-2ARL0n_",
        "outputId": "0de09b3d-4c81-4ace-d5c9-e63e526f2e4c"
      },
      "execution_count": 34,
      "outputs": [
        {
          "output_type": "execute_result",
          "data": {
            "text/plain": [
              "'sean exist sean want get mini war go say littl bit skeptic perform claim centri see pleas flame reserv c chicago last consum electron show appl booth walk show real time video captur use radiou supermac card digit make right spot quicktim movi think quicktim use old one digit guy talk x xx someth play back quit nice real time guy expand window resiz x xx think frame rate decreas enough notic fp fp anymor drop like fp increas bit drop fp ask mac use use quadra know model tell guy quicktim could play back speed even lcii well spoil claim say sinc quadra mac littl bit troubl even hardisk memori could saw either newer version quicktim hardwar assist centri anoth softwar product run anim like supposedli macromind acceler misunderstand want clarifi sake post comput claim x tad overscan done color comput hardisk fp scala mm agre consid mpeg stuff think multimedia consum low price box lot market think would make longer cd'"
            ],
            "application/vnd.google.colaboratory.intrinsic+json": {
              "type": "string"
            }
          },
          "metadata": {},
          "execution_count": 34
        }
      ]
    },
    {
      "cell_type": "code",
      "source": [
        "import seaborn as sns\n",
        "from matplotlib import pyplot as plt"
      ],
      "metadata": {
        "id": "p32ATqGHMJMR"
      },
      "execution_count": 35,
      "outputs": []
    },
    {
      "cell_type": "code",
      "source": [
        "plt.figure(figsize=(12,6))\n",
        "sns.countplot(df['cluster'])\n",
        "plt.show()"
      ],
      "metadata": {
        "colab": {
          "base_uri": "https://localhost:8080/",
          "height": 444
        },
        "id": "R4Q7QqcxMpmv",
        "outputId": "523a991f-4676-41d9-b21a-708ebcfacd2f"
      },
      "execution_count": 36,
      "outputs": [
        {
          "output_type": "stream",
          "name": "stderr",
          "text": [
            "/usr/local/lib/python3.7/dist-packages/seaborn/_decorators.py:43: FutureWarning: Pass the following variable as a keyword arg: x. From version 0.12, the only valid positional argument will be `data`, and passing other arguments without an explicit keyword will result in an error or misinterpretation.\n",
            "  FutureWarning\n"
          ]
        },
        {
          "output_type": "display_data",
          "data": {
            "text/plain": [
              "<Figure size 864x432 with 1 Axes>"
            ],
            "image/png": "[encoded data removed]"
          },
          "metadata": {
            "needs_background": "light"
          }
        }
      ]
    },
    {
      "cell_type": "code",
      "source": [
        "\n",
        "plt.pie(df['cluster'].value_counts(),autopct='%.2f')\n",
        "plt.show()"
      ],
      "metadata": {
        "colab": {
          "base_uri": "https://localhost:8080/",
          "height": 248
        },
        "id": "VbqVd--FNDvP",
        "outputId": "603a10c7-92ea-4795-b71d-81ccb978e181"
      },
      "execution_count": 37,
      "outputs": [
        {
          "output_type": "display_data",
          "data": {
            "text/plain": [
              "<Figure size 432x288 with 1 Axes>"
            ],
            "image/png": "[encoded data removed]"
          },
          "metadata": {}
        }
      ]
    },
    {
      "cell_type": "code",
      "source": [
        ""
      ],
      "metadata": {
        "id": "jzmmKbztONzq"
      },
      "execution_count": 37,
      "outputs": []
    }
  ]
}